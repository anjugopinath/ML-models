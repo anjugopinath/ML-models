{
  "nbformat": 4,
  "nbformat_minor": 0,
  "metadata": {
    "colab": {
      "provenance": [],
      "authorship_tag": "ABX9TyM6wjA0n/CsrlPV6+iJKBf6"
    },
    "kernelspec": {
      "name": "python3",
      "display_name": "Python 3"
    },
    "language_info": {
      "name": "python"
    }
  },
  "cells": [
    {
      "cell_type": "code",
      "execution_count": null,
      "metadata": {
        "id": "YUhowxhutNSw"
      },
      "outputs": [],
      "source": [
        "#https://towardsdatascience.com/auto-encoder-what-is-it-and-what-is-it-used-for-part-1-3e5c6f017726"
      ]
    },
    {
      "cell_type": "code",
      "source": [
        "#Requirements\n",
        "#Load any image from MNIST dataset as img.png"
      ],
      "metadata": {
        "id": "meFKqdRwudAC"
      },
      "execution_count": null,
      "outputs": []
    },
    {
      "cell_type": "code",
      "source": [
        "import numpy as np\n",
        "import keras\n",
        "from keras.datasets import mnist\n",
        "from keras.models import Sequential, Model\n",
        "from keras.layers import Dense, Input\n",
        "from keras import optimizers\n",
        "from keras.optimizers import Adam\n",
        "\n",
        "(x_train, y_train), (x_test, y_test) = mnist.load_data()\n",
        "train_x = x_train.reshape(60000, 784) / 255\n",
        "val_x = x_test.reshape(10000, 784) / 255\n",
        "\n",
        "autoencoder = Sequential()\n",
        "autoencoder.add(Dense(512,  activation='elu', input_shape=(784,)))\n",
        "autoencoder.add(Dense(128,  activation='elu'))\n",
        "autoencoder.add(Dense(10,    activation='linear', name=\"bottleneck\"))\n",
        "autoencoder.add(Dense(128,  activation='elu'))\n",
        "autoencoder.add(Dense(512,  activation='elu'))\n",
        "autoencoder.add(Dense(784,  activation='sigmoid'))\n",
        "autoencoder.compile(loss='mean_squared_error', optimizer = Adam())\n",
        "trained_model = autoencoder.fit(train_x, train_x, batch_size=1024, epochs=10, verbose=1, validation_data=(val_x, val_x))\n",
        "encoder = Model(autoencoder.input, autoencoder.get_layer('bottleneck').output)\n",
        "encoded_data = encoder.predict(train_x)  # bottleneck representation\n",
        "decoded_output = autoencoder.predict(train_x)        # reconstruction\n",
        "encoding_dim = 10\n",
        "\n",
        "# return the decoder\n",
        "encoded_input = Input(shape=(encoding_dim,))\n",
        "decoder = autoencoder.layers[-3](encoded_input)\n",
        "decoder = autoencoder.layers[-2](decoder)\n",
        "decoder = autoencoder.layers[-1](decoder)\n",
        "decoder = Model(encoded_input, decoder)\n"
      ],
      "metadata": {
        "colab": {
          "base_uri": "https://localhost:8080/"
        },
        "id": "VOU3FVaNtPVZ",
        "outputId": "e5e6ae09-6c1e-45be-86df-c2d558ed7b3f"
      },
      "execution_count": 1,
      "outputs": [
        {
          "output_type": "stream",
          "name": "stdout",
          "text": [
            "Downloading data from https://storage.googleapis.com/tensorflow/tf-keras-datasets/mnist.npz\n",
            "11490434/11490434 [==============================] - 0s 0us/step\n",
            "Epoch 1/10\n",
            "59/59 [==============================] - 13s 169ms/step - loss: 0.0773 - val_loss: 0.0502\n",
            "Epoch 2/10\n",
            "59/59 [==============================] - 10s 178ms/step - loss: 0.0435 - val_loss: 0.0374\n",
            "Epoch 3/10\n",
            "59/59 [==============================] - 6s 103ms/step - loss: 0.0348 - val_loss: 0.0311\n",
            "Epoch 4/10\n",
            "59/59 [==============================] - 8s 138ms/step - loss: 0.0298 - val_loss: 0.0275\n",
            "Epoch 5/10\n",
            "59/59 [==============================] - 11s 184ms/step - loss: 0.0266 - val_loss: 0.0248\n",
            "Epoch 6/10\n",
            "59/59 [==============================] - 7s 112ms/step - loss: 0.0243 - val_loss: 0.0229\n",
            "Epoch 7/10\n",
            "59/59 [==============================] - 8s 139ms/step - loss: 0.0227 - val_loss: 0.0216\n",
            "Epoch 8/10\n",
            "59/59 [==============================] - 6s 105ms/step - loss: 0.0215 - val_loss: 0.0206\n",
            "Epoch 9/10\n",
            "59/59 [==============================] - 8s 131ms/step - loss: 0.0206 - val_loss: 0.0198\n",
            "Epoch 10/10\n",
            "59/59 [==============================] - 7s 113ms/step - loss: 0.0198 - val_loss: 0.0191\n",
            "1875/1875 [==============================] - 7s 4ms/step\n",
            "1875/1875 [==============================] - 9s 5ms/step\n"
          ]
        }
      ]
    },
    {
      "cell_type": "code",
      "source": [
        "%matplotlib inline\n",
        "from keras.preprocessing import image\n",
        "# if the img.png is not one of the MNIST dataset that the model was trained on, the error will be very high.\n",
        "img = image.load_img(\"./img.png\", target_size=(28, 28), color_mode = \"grayscale\")\n",
        "input_img = image.img_to_array(img)\n",
        "inputs = input_img.reshape(1,784)\n",
        "target_data = autoencoder.predict(inputs)\n",
        "dist = np.linalg.norm(inputs - target_data, axis=-1)\n",
        "print(dist)"
      ],
      "metadata": {
        "colab": {
          "base_uri": "https://localhost:8080/"
        },
        "id": "0oBK4KJWtUKc",
        "outputId": "51181eae-611d-483f-c398-f7d602165956"
      },
      "execution_count": 3,
      "outputs": [
        {
          "output_type": "stream",
          "name": "stdout",
          "text": [
            "1/1 [==============================] - 0s 81ms/step\n",
            "[1950.0643]\n"
          ]
        }
      ]
    },
    {
      "cell_type": "code",
      "source": [
        "# The code below is from the Keras Blogs\n",
        "# https://blog.keras.io/building-autoencoders-in-keras.html\n",
        "import matplotlib.pyplot as plt\n",
        "\n",
        "\n",
        "noise_factor = 0.5\n",
        "x_train_noisy = x_train + noise_factor * np.random.normal(loc=0.0, scale=1.0, size=x_train.shape)\n",
        "x_test_noisy = x_test + noise_factor * np.random.normal(loc=0.0, scale=1.0, size=x_test.shape)\n",
        "\n",
        "x_train_noisy = np.clip(x_train_noisy, 0., 1.)\n",
        "x_test_noisy = np.clip(x_test_noisy, 0., 1.)\n",
        "\n",
        "#Print one image to see the noise\n",
        "plt.imshow(x_test_noisy[1].reshape(28, 28))"
      ],
      "metadata": {
        "colab": {
          "base_uri": "https://localhost:8080/",
          "height": 447
        },
        "id": "eT5u2i3itdKp",
        "outputId": "8cc24d8e-ed96-4de9-cc88-0827f62d0b13"
      },
      "execution_count": 5,
      "outputs": [
        {
          "output_type": "execute_result",
          "data": {
            "text/plain": [
              "<matplotlib.image.AxesImage at 0x7f0691289360>"
            ]
          },
          "metadata": {},
          "execution_count": 5
        },
        {
          "output_type": "display_data",
          "data": {
            "text/plain": [
              "<Figure size 640x480 with 1 Axes>"
            ],
            "image/png": "[encoded data removed]"
          },
          "metadata": {}
        }
      ]
    }
  ]
}